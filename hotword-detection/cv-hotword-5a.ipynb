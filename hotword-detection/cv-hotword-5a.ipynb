{
 "cells": [
  {
   "cell_type": "code",
   "execution_count": 2,
   "id": "558cd95b-29a4-4fd7-817d-fb0f50bbef3d",
   "metadata": {},
   "outputs": [
    {
     "name": "stdout",
     "output_type": "stream",
     "text": [
      "Columns available: Index(['filename', 'text', 'up_votes', 'down_votes', 'age', 'gender', 'accent',\n",
      "       'duration', 'generated_text'],\n",
      "      dtype='object')\n",
      " Saved 15 detected filenames to detected.txt\n"
     ]
    }
   ],
   "source": [
    "import pandas as pd\n",
    "import os\n",
    "\n",
    "# Use raw string for Windows file path to avoid issues with backslashes\n",
    "TRANSCRIPTION_FILE = r\"C:\\Users\\cheny\\coderepo\\airepo\\asr-train\\cv-valid-dev-with-transcriptions.csv\"\n",
    "\n",
    "# 🔥 Define hot words to search for\n",
    "hotwords = [\"be careful\", \"destroy\", \"stranger\"]\n",
    "\n",
    "# Load CSV file\n",
    "df = pd.read_csv(TRANSCRIPTION_FILE)\n",
    "\n",
    "# Preview the columns to confirm structure\n",
    "print(\"Columns available:\", df.columns)\n",
    "\n",
    "# Make sure we are working with the correct columns\n",
    "# Adjust if needed (e.g., 'file' or 'path' instead of 'filename')\n",
    "df['generated_text'] = df['generated_text'].astype(str).str.lower()\n",
    "\n",
    "# Function to check for hot words\n",
    "def contains_hotword(text):\n",
    "    return any(hotword in text for hotword in hotwords)\n",
    "\n",
    "# Filter rows where transcript contains any hotword\n",
    "hotword_matches = df[df['generated_text'].apply(contains_hotword)]\n",
    "\n",
    "# Output file (it will be saved in the same directory as this notebook runs)\n",
    "output_file = \"detected.txt\"\n",
    "\n",
    "# Save matched filenames\n",
    "hotword_matches['filename'].to_csv(output_file, index=False, header=False)\n",
    "\n",
    "print(f\" Saved {len(hotword_matches)} detected filenames to {output_file}\")\n"
   ]
  },
  {
   "cell_type": "code",
   "execution_count": null,
   "id": "11042fef-a2ed-45ce-a935-43f33388d92d",
   "metadata": {},
   "outputs": [],
   "source": []
  }
 ],
 "metadata": {
  "kernelspec": {
   "display_name": "Python 3 (ipykernel)",
   "language": "python",
   "name": "python3"
  },
  "language_info": {
   "codemirror_mode": {
    "name": "ipython",
    "version": 3
   },
   "file_extension": ".py",
   "mimetype": "text/x-python",
   "name": "python",
   "nbconvert_exporter": "python",
   "pygments_lexer": "ipython3",
   "version": "3.11.12"
  }
 },
 "nbformat": 4,
 "nbformat_minor": 5
}
